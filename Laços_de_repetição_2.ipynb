{
  "nbformat": 4,
  "nbformat_minor": 0,
  "metadata": {
    "colab": {
      "provenance": [],
      "authorship_tag": "ABX9TyNWKoxQ8+HqVKS8KFQwW+WL",
      "include_colab_link": true
    },
    "kernelspec": {
      "name": "python3",
      "display_name": "Python 3"
    },
    "language_info": {
      "name": "python"
    }
  },
  "cells": [
    {
      "cell_type": "markdown",
      "metadata": {
        "id": "view-in-github",
        "colab_type": "text"
      },
      "source": [
        "<a href=\"https://colab.research.google.com/github/msaetv/projetos-PI/blob/main/La%C3%A7os_de_repeti%C3%A7%C3%A3o_2.ipynb\" target=\"_parent\"><img src=\"https://colab.research.google.com/assets/colab-badge.svg\" alt=\"Open In Colab\"/></a>"
      ]
    },
    {
      "cell_type": "markdown",
      "source": [
        "Range:"
      ],
      "metadata": {
        "id": "SGUR11tYdgqF"
      }
    },
    {
      "cell_type": "code",
      "execution_count": null,
      "metadata": {
        "id": "ILxBKAyJddIU"
      },
      "outputs": [],
      "source": [
        "for n in range(10):\n",
        "    print('funciona')\n",
        "\n",
        "for n in range(1,11):\n",
        "    print('funcio')"
      ]
    },
    {
      "cell_type": "markdown",
      "source": [
        "Soma de dois inteiros:"
      ],
      "metadata": {
        "id": "8kI7J-uBeKxu"
      }
    },
    {
      "cell_type": "code",
      "source": [
        "a= int(input())\n",
        "b= int(input())\n",
        "def soma (a,b):\n",
        "    s=0\n",
        "    for i in range(a,b+1):\n",
        "        s += i\n",
        "    return s\n",
        "\n",
        "print(soma(a,b))"
      ],
      "metadata": {
        "id": "v_112jZgeOvk"
      },
      "execution_count": null,
      "outputs": []
    },
    {
      "cell_type": "markdown",
      "source": [
        "Soma dos ímpares:"
      ],
      "metadata": {
        "id": "1sVQOLSHfDHF"
      }
    },
    {
      "cell_type": "code",
      "source": [
        "a= int(input())\n",
        "b= int(input())\n",
        "\n",
        "def somai(a,b):\n",
        "    soma=0\n",
        "    for i in range(a, b+1):\n",
        "        if i%2 == 1:\n",
        "            soma += i\n",
        "    return soma\n",
        "\n",
        "print(somai(a,b))"
      ],
      "metadata": {
        "id": "yxWzMrc2fFch"
      },
      "execution_count": null,
      "outputs": []
    },
    {
      "cell_type": "markdown",
      "source": [
        "somatório com n diminuido no denominador e crescendo no numerador:"
      ],
      "metadata": {
        "id": "GKlWBlakf-qk"
      }
    },
    {
      "cell_type": "code",
      "source": [
        "n = int(input())\n",
        "def somared(n):\n",
        "    soma = 0\n",
        "    for i in range (n,0,-1):\n",
        "        soma += (n - (i-1)) / i\n"
      ],
      "metadata": {
        "id": "5tSdJEIEgC39"
      },
      "execution_count": null,
      "outputs": []
    },
    {
      "cell_type": "markdown",
      "source": [
        "Aproximação para pi:"
      ],
      "metadata": {
        "id": "Ys0_GTVfgxf4"
      }
    },
    {
      "cell_type": "code",
      "source": [
        "def aprox_pi ():\n",
        "    soma=1\n",
        "    t =1\n",
        "    for i in range (3, 1999,2):\n",
        "        soma += 1/(i*((-1)**t))\n",
        "        t +=1\n",
        "    return 4*soma\n",
        "print(aprox_pi())\n"
      ],
      "metadata": {
        "colab": {
          "base_uri": "https://localhost:8080/"
        },
        "id": "d9jEUJKLgxyh",
        "outputId": "acce01a2-a977-4629-dd00-52f0514acc78"
      },
      "execution_count": null,
      "outputs": [
        {
          "output_type": "stream",
          "name": "stdout",
          "text": [
            "3.142593654340044\n"
          ]
        }
      ]
    }
  ]
}