{
  "nbformat": 4,
  "nbformat_minor": 0,
  "metadata": {
    "colab": {
      "provenance": [],
      "authorship_tag": "ABX9TyMolZ9c7Y70Z/fXLkpxJGCe",
      "include_colab_link": true
    },
    "kernelspec": {
      "name": "python3",
      "display_name": "Python 3"
    },
    "language_info": {
      "name": "python"
    }
  },
  "cells": [
    {
      "cell_type": "markdown",
      "metadata": {
        "id": "view-in-github",
        "colab_type": "text"
      },
      "source": [
        "<a href=\"https://colab.research.google.com/github/msaetv/projetos-PI/blob/main/testes_de_ex.ipynb\" target=\"_parent\"><img src=\"https://colab.research.google.com/assets/colab-badge.svg\" alt=\"Open In Colab\"/></a>"
      ]
    },
    {
      "cell_type": "markdown",
      "source": [
        "ex. 1: quantidade de caixas necessárias para levar uma certa carga\n",
        "\n",
        "c1 = 500 kg, c2 = 100 kg, c3 = 25 kg, c4 = 1 kg"
      ],
      "metadata": {
        "id": "I_gIJb3TuRHD"
      }
    },
    {
      "cell_type": "code",
      "source": [
        "pt= int(input())\n",
        "c1 = pt // 500\n",
        "c2 = (pt % 500) // 100\n",
        "c3 = ((pt % 500) % 100) // 25\n",
        "c4 = (((pt % 500) % 100) % 25) // 1\n",
        "\n",
        "print(c1)\n",
        "print(c2)\n",
        "print(c3)\n",
        "print(c4)"
      ],
      "metadata": {
        "id": "jmorzNBR-m-l"
      },
      "execution_count": null,
      "outputs": []
    },
    {
      "cell_type": "markdown",
      "source": [
        "ex. 2: meta de vendas\n",
        "sav - salário do vendedor, tv - total das vendas, co - comissão"
      ],
      "metadata": {
        "id": "wJ1HFOWwuVop"
      }
    },
    {
      "cell_type": "code",
      "source": [
        "sav= float(input())\n",
        "tv= float(input())\n",
        "co = 0.2*tv\n",
        "print('{:.2f}'.format(co))\n",
        "if tv >= 2.5*sav:\n",
        "    print('Atingiu meta de vendas')\n",
        "else:\n",
        "    print('Nao atingiu meta de vendas')"
      ],
      "metadata": {
        "id": "_hJ7uL8vn5js"
      },
      "execution_count": null,
      "outputs": []
    },
    {
      "cell_type": "markdown",
      "source": [
        "Ex 3: Bhaskara\n",
        "\n",
        "\n",
        "\n"
      ],
      "metadata": {
        "id": "9borAoVvYqnn"
      }
    },
    {
      "cell_type": "code",
      "source": [
        "import math\n",
        "\n",
        "a= int(input())\n",
        "b= int(input())\n",
        "c= int(input())\n",
        "\n",
        "delta= b**2-4*a*c\n",
        "\n",
        "if delta < 0:\n",
        "    print('Sem solucao real!')\n",
        "elif delta == 0:\n",
        "    x1= (-b + math.sqrt(delta))/2*a\n",
        "    print('{:.2f}.format(x1)')\n",
        "else:\n",
        "    x1= (-b + math.sqrt(delta))/2*a\n",
        "    x2= (-b - math.sqrt(delta))/2*a\n",
        "    if x1>x2:\n",
        "        print('{:.2f}'.format(x1))\n",
        "        print('{:.2f}'.format(x2))\n",
        "    if x2>x1:\n",
        "        print('{:.2f}.format(x2)')\n",
        "        print('{:.2f}.format(x1)')\n"
      ],
      "metadata": {
        "id": "B-339ZfbECQ9"
      },
      "execution_count": null,
      "outputs": []
    },
    {
      "cell_type": "markdown",
      "source": [
        "Ex 4: Aproximação para PI"
      ],
      "metadata": {
        "id": "q1fTpDztDOYT"
      }
    },
    {
      "cell_type": "code",
      "source": [
        "import math as ma\n",
        "\n",
        "def P1 ():\n",
        "    return ma.sqrt(7 + ma.sqrt(6 + ma.sqrt(5)))\n",
        "print(P1())\n",
        "\n",
        "#segunda aproximação para PI\n",
        "def P2 ():\n",
        "    return ma.sqrt(ma.sqrt(ma.pow(3,4)+(ma.pow(19,2)/(78 - 56))))\n",
        "print(P2())\n"
      ],
      "metadata": {
        "id": "3LPAieaGFWS9"
      },
      "execution_count": null,
      "outputs": []
    },
    {
      "cell_type": "markdown",
      "source": [
        "EX 5: código verificador de naves\n",
        "ns- número de série"
      ],
      "metadata": {
        "id": "xnn3U_W94emG"
      }
    },
    {
      "cell_type": "code",
      "source": [
        "import math as mt\n",
        "\n",
        "ns = int(input())\n",
        "\n",
        "#separando as casas do número, duas a duas, para a verificação dos códigos\n",
        "def sep1(ns):\n",
        "    c1 = (ns // mt.pow(10, 5)) * mt.pow(10, 5)\n",
        "    ns = ns - c1\n",
        "    c2 = (ns // mt.pow(10, 4)) * mt.pow(10, 4)\n",
        "    ns = ns - c2\n",
        "    soma1 = (c1 + c2) / 10 ** 4\n",
        "    c3 = (ns // mt.pow(10, 3)) * mt.pow(10, 3)\n",
        "    ns = ns - c3\n",
        "    c4 = (ns // mt.pow(10, 2)) * mt.pow(10, 2)\n",
        "    ns = ns - c4\n",
        "    soma2 = (c3 + c4) / 100\n",
        "    c5 = (ns // mt.pow(10, 1)) * 10\n",
        "    ns = ns - c5\n",
        "    c6 = ns * 1\n",
        "    soma3 = c5 + c6\n",
        "    return soma1, soma2, soma3\n",
        "\n",
        "soma1, soma2, soma3 = sep1(ns)\n",
        "#primeiro código\n",
        "if soma1 == 80:\n",
        "    print('Marte')\n",
        "elif soma1 == 81:\n",
        "    print('Saturno')\n",
        "elif soma1 == 90:\n",
        "    print('Netuno')\n",
        "else:\n",
        "    print('HD21749b')\n",
        "#segundo código\n",
        "if soma2 == 60:\n",
        "    print('A6000')\n",
        "elif soma2 == 61:\n",
        "    print('B7500')\n",
        "elif soma2 == 62:\n",
        "    print('C9000')\n",
        "#terceiro código\n",
        "if soma3 == 80:\n",
        "    print('Marte')\n",
        "elif soma3 == 81:\n",
        "    print('Saturno')\n",
        "elif soma3 == 90:\n",
        "    print('Netuno')\n",
        "else:\n",
        "    print('HD21749b')\n",
        "\n"
      ],
      "metadata": {
        "id": "oB4w4anF4ePT"
      },
      "execution_count": null,
      "outputs": []
    },
    {
      "cell_type": "code",
      "source": [],
      "metadata": {
        "id": "smZfcCUtcAOx"
      },
      "execution_count": null,
      "outputs": []
    }
  ]
}