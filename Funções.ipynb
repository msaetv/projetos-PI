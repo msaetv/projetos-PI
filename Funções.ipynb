{
  "nbformat": 4,
  "nbformat_minor": 0,
  "metadata": {
    "colab": {
      "provenance": [],
      "authorship_tag": "ABX9TyOkTszFZ3LcZrPqkpov2nRO",
      "include_colab_link": true
    },
    "kernelspec": {
      "name": "python3",
      "display_name": "Python 3"
    },
    "language_info": {
      "name": "python"
    }
  },
  "cells": [
    {
      "cell_type": "markdown",
      "metadata": {
        "id": "view-in-github",
        "colab_type": "text"
      },
      "source": [
        "<a href=\"https://colab.research.google.com/github/msaetv/projetos-PI/blob/main/Fun%C3%A7%C3%B5es.ipynb\" target=\"_parent\"><img src=\"https://colab.research.google.com/assets/colab-badge.svg\" alt=\"Open In Colab\"/></a>"
      ]
    },
    {
      "cell_type": "markdown",
      "source": [
        "EX.1 - Distância Manhattan:"
      ],
      "metadata": {
        "id": "2SSSkBwfrWfU"
      }
    },
    {
      "cell_type": "code",
      "execution_count": null,
      "metadata": {
        "id": "VN7RcULRcE1M"
      },
      "outputs": [],
      "source": [
        "def calcular_distancia (a: int,b: int,c: int,d: int):\n",
        "    dh= abs(c - a)\n",
        "    dv= abs(d - b)\n",
        "    dm= dh + dv\n",
        "    return dm\n",
        ""
      ]
    },
    {
      "cell_type": "markdown",
      "source": [
        "EX.2 - Soma de dois valores:"
      ],
      "metadata": {
        "id": "cme-pOYrrnaa"
      }
    },
    {
      "cell_type": "code",
      "source": [
        "def somar(a,b):\n",
        "    return a+b\n"
      ],
      "metadata": {
        "id": "IyUC897ctcrO"
      },
      "execution_count": null,
      "outputs": []
    },
    {
      "cell_type": "markdown",
      "source": [
        "Ex.3 - Comparando datas:\n",
        "\n",
        "1.  1  - primeira data é mais recente\n",
        "2.  0  - as datas são iguais\n",
        "3. -1  - a segunda data é mais recente"
      ],
      "metadata": {
        "id": "AkIGStLEwRqq"
      }
    },
    {
      "cell_type": "code",
      "source": [
        "def comparar_datas(d1, m1, a1, d2, m2, a2):\n",
        "    if a1 == a2:\n",
        "        if m1 == m2:\n",
        "            if d1 == d2:\n",
        "                return 0\n",
        "            else:\n",
        "                if d1 > d2:\n",
        "                    return 1\n",
        "                else:\n",
        "                    return -1\n",
        "        else:\n",
        "            if m1 > m2:\n",
        "                return 1\n",
        "            else:\n",
        "                return -1\n",
        "    else:\n",
        "        if a1>a2:\n",
        "            return 1\n",
        "        else:\n",
        "            return -1"
      ],
      "metadata": {
        "id": "sreb14urwWBo"
      },
      "execution_count": null,
      "outputs": []
    },
    {
      "cell_type": "markdown",
      "source": [
        "EX.4 - Prazo de entrega determinados pela quantidade de modelos iguais:"
      ],
      "metadata": {
        "id": "AmIhutvW64s3"
      }
    },
    {
      "cell_type": "code",
      "source": [
        "def obter_prazo_entrega(disco1, disco2, disco3):\n",
        "    if disco1 == disco2 and disco2 == disco3:\n",
        "        return 5\n",
        "    if disco1 == disco2 and disco2 != disco3:\n",
        "        return 15\n",
        "    if disco1 != disco2 and disco2 == disco3:\n",
        "        return 15\n",
        "    if disco1 == disco3 and disco3 != disco2:\n",
        "        return 15\n",
        "    if disco1 != disco2 and disco1 != disco3 and disco2 != disco3:\n",
        "        return 30\n",
        "\n",
        "d1 = int(input())\n",
        "d2 = int(input())\n",
        "d3 = int(input())\n",
        "prazo_entrega = obter_prazo_entrega(d1, d2, d3)\n",
        "print(\"Disco1 =\", d1)\n",
        "print(\"Disco2 =\", d2)\n",
        "print(\"Disco3 =\", d3)\n",
        "print(\"Prazo de entrega =\", prazo_entrega)"
      ],
      "metadata": {
        "id": "mTgxSwvT7TVG"
      },
      "execution_count": null,
      "outputs": []
    }
  ]
}