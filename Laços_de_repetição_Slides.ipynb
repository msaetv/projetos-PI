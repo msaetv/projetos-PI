{
  "nbformat": 4,
  "nbformat_minor": 0,
  "metadata": {
    "colab": {
      "provenance": [],
      "authorship_tag": "ABX9TyPKe/fegv9j+ALjj45kh5wn",
      "include_colab_link": true
    },
    "kernelspec": {
      "name": "python3",
      "display_name": "Python 3"
    },
    "language_info": {
      "name": "python"
    }
  },
  "cells": [
    {
      "cell_type": "markdown",
      "metadata": {
        "id": "view-in-github",
        "colab_type": "text"
      },
      "source": [
        "<a href=\"https://colab.research.google.com/github/msaetv/projetos-PI/blob/main/La%C3%A7os_de_repeti%C3%A7%C3%A3o_Slides.ipynb\" target=\"_parent\"><img src=\"https://colab.research.google.com/assets/colab-badge.svg\" alt=\"Open In Colab\"/></a>"
      ]
    },
    {
      "cell_type": "markdown",
      "source": [
        "Ex.1 - (slide):"
      ],
      "metadata": {
        "id": "8BmkXdhUD0iS"
      }
    },
    {
      "cell_type": "code",
      "execution_count": null,
      "metadata": {
        "id": "-bO0ki0tDbr2"
      },
      "outputs": [],
      "source": [
        "a=int(input())\n",
        "b=int(input())\n",
        "\n",
        "soma= 0\n",
        "while a <= b :\n",
        "    soma += a\n",
        "    a += 1\n",
        "print(soma)\n"
      ]
    },
    {
      "cell_type": "markdown",
      "source": [
        "Ex.2 - (slide):"
      ],
      "metadata": {
        "id": "LNUZ-RBzF9jc"
      }
    },
    {
      "cell_type": "code",
      "source": [
        "def soma_quadratica (n):\n",
        "    soma = 0\n",
        "    a = 1\n",
        "    while a <= n:\n",
        "        soma = soma + a**2\n",
        "        a = a+1\n",
        "    return soma\n"
      ],
      "metadata": {
        "id": "1W8RGGu5GPbq"
      },
      "execution_count": null,
      "outputs": []
    },
    {
      "cell_type": "markdown",
      "source": [
        "Ex.3 - (slide):"
      ],
      "metadata": {
        "id": "8l_-RPt4HfgO"
      }
    },
    {
      "cell_type": "code",
      "source": [
        "def soma_alternada (n):\n",
        "    soma = 0\n",
        "    a = 1\n",
        "    while a <= n:\n",
        "        if a%2 == 0:\n",
        "            soma = soma - a\n",
        "        else:\n",
        "            soma = soma + a\n",
        "        a= a+1\n",
        "    return soma\n",
        "\n",
        "\n"
      ],
      "metadata": {
        "id": "ybVE7I1hHgBG"
      },
      "execution_count": null,
      "outputs": []
    },
    {
      "cell_type": "markdown",
      "source": [
        "Ex.4 - (Slide):"
      ],
      "metadata": {
        "id": "fSUpSK5EOO_o"
      }
    },
    {
      "cell_type": "code",
      "source": [
        "n = int(input())\n",
        "def n_triangular (n) -> bool:\n",
        "    i = 1\n",
        "    while i * (i+1) * (i+2) < n:\n",
        "        i += 1\n",
        "    return n == i * (i+1) * (i+2)\n",
        "print(n_triangular(n))"
      ],
      "metadata": {
        "id": "r6WWb3Vdlyzd"
      },
      "execution_count": null,
      "outputs": []
    },
    {
      "cell_type": "markdown",
      "source": [
        "Ex.5 - (Slide):"
      ],
      "metadata": {
        "id": "XaM7Oj77tdFe"
      }
    },
    {
      "cell_type": "code",
      "source": [
        "def aprox_pi ():\n",
        "    soma = 0\n",
        "    n = 1\n",
        "    i = 1\n",
        "    while i <= 1000:\n",
        "        if i % 2 == 0:\n",
        "            soma += -1/n\n",
        "            n+= 2\n",
        "            i +=1\n",
        "        else:\n",
        "            soma += 1/n\n",
        "            n+= 2\n",
        "            i += 1\n",
        "    return soma * 4\n",
        "\n",
        "print(aprox_pi())"
      ],
      "metadata": {
        "id": "6OhF_ny1timY"
      },
      "execution_count": null,
      "outputs": []
    },
    {
      "cell_type": "markdown",
      "source": [
        "Ex.6 - (Slide):"
      ],
      "metadata": {
        "id": "K5C4quAWLHFn"
      }
    },
    {
      "cell_type": "code",
      "source": [
        "z= int(input())\n",
        "def soma_p_i (c):\n",
        "    n=0\n",
        "    somap = 0\n",
        "    somai = 0\n",
        "    while n <= z:\n",
        "        if n%2 == 0:\n",
        "            somap += n\n",
        "            n += 1\n",
        "        else:\n",
        "            somai += n\n",
        "            n += 1\n",
        "    return somap, somai\n",
        "\n",
        "somap, somai = soma_p_i(z)\n",
        "print('soma dos ímpares:{}\\nsoma dos pares:{}'.format(somai,somap))\n",
        "\n"
      ],
      "metadata": {
        "id": "Xf48V8i7LvVj"
      },
      "execution_count": null,
      "outputs": []
    },
    {
      "cell_type": "markdown",
      "source": [
        "Ex.7 - (slide):"
      ],
      "metadata": {
        "id": "WvKhjC3tM2vm"
      }
    },
    {
      "cell_type": "code",
      "source": [
        "def m5(x: int) -> int:\n",
        "    soma = 0\n",
        "    p=1\n",
        "    while p<=x:\n",
        "        s=1\n",
        "        while s <= x:\n",
        "            soma = soma + 1\n",
        "            s = s + 1\n",
        "        p = p + 1\n",
        "    return soma\n",
        "print(m5(2))"
      ],
      "metadata": {
        "id": "vpWZ0vt1NIOk"
      },
      "execution_count": null,
      "outputs": []
    },
    {
      "cell_type": "markdown",
      "source": [
        "Ex.8 - (Slide):"
      ],
      "metadata": {
        "id": "-0MJ0GAqN7E6"
      }
    },
    {
      "cell_type": "code",
      "source": [
        "def somatoria (n: int) -> int:\n",
        "    soma = 0\n",
        "    while n >= 1:\n",
        "        i=n\n",
        "        while i >= 1:\n",
        "            soma = soma + n\n",
        "            i = i - 1\n",
        "        n = n -1\n",
        "    return soma\n",
        "\n",
        "n = int(input())\n",
        "print(somatoria(n))"
      ],
      "metadata": {
        "id": "quYhnTBvN_cy"
      },
      "execution_count": null,
      "outputs": []
    }
  ]
}